{
 "cells": [
  {
   "cell_type": "markdown",
   "metadata": {},
   "source": [
    "# DataLoading example"
   ]
  },
  {
   "cell_type": "code",
   "execution_count": 1,
   "metadata": {},
   "outputs": [
    {
     "name": "stdout",
     "output_type": "stream",
     "text": [
      "Requirement already satisfied: aac_datasets in /homelocal/labbeti/miniconda3/envs/env_test/lib/python3.10/site-packages (0.1.1)\n",
      "Requirement already satisfied: pyyaml>=6.0 in /homelocal/labbeti/miniconda3/envs/env_test/lib/python3.10/site-packages (from aac_datasets) (6.0)\n",
      "Requirement already satisfied: torchaudio>=0.10.1 in /homelocal/labbeti/miniconda3/envs/env_test/lib/python3.10/site-packages (from aac_datasets) (0.11.0)\n",
      "Requirement already satisfied: torch>=1.10.1 in /homelocal/labbeti/miniconda3/envs/env_test/lib/python3.10/site-packages (from aac_datasets) (1.11.0)\n",
      "Requirement already satisfied: py7zr>=0.17.2 in /homelocal/labbeti/miniconda3/envs/env_test/lib/python3.10/site-packages (from aac_datasets) (0.18.9)\n",
      "Requirement already satisfied: tqdm>=4.64.0 in /homelocal/labbeti/miniconda3/envs/env_test/lib/python3.10/site-packages (from aac_datasets) (4.64.0)\n",
      "Requirement already satisfied: multivolumefile>=0.2.3 in /homelocal/labbeti/miniconda3/envs/env_test/lib/python3.10/site-packages (from py7zr>=0.17.2->aac_datasets) (0.2.3)\n",
      "Requirement already satisfied: pyzstd>=0.14.4 in /homelocal/labbeti/miniconda3/envs/env_test/lib/python3.10/site-packages (from py7zr>=0.17.2->aac_datasets) (0.15.2)\n",
      "Requirement already satisfied: psutil in /homelocal/labbeti/miniconda3/envs/env_test/lib/python3.10/site-packages (from py7zr>=0.17.2->aac_datasets) (5.9.1)\n",
      "Requirement already satisfied: texttable in /homelocal/labbeti/miniconda3/envs/env_test/lib/python3.10/site-packages (from py7zr>=0.17.2->aac_datasets) (1.6.4)\n",
      "Requirement already satisfied: pybcj>=0.6.0 in /homelocal/labbeti/miniconda3/envs/env_test/lib/python3.10/site-packages (from py7zr>=0.17.2->aac_datasets) (0.6.0)\n",
      "Requirement already satisfied: brotli>=1.0.9 in /homelocal/labbeti/miniconda3/envs/env_test/lib/python3.10/site-packages (from py7zr>=0.17.2->aac_datasets) (1.0.9)\n",
      "Requirement already satisfied: zipfile-deflate64>=0.2.0 in /homelocal/labbeti/miniconda3/envs/env_test/lib/python3.10/site-packages (from py7zr>=0.17.2->aac_datasets) (0.2.0)\n",
      "Requirement already satisfied: pycryptodomex>=3.6.6 in /homelocal/labbeti/miniconda3/envs/env_test/lib/python3.10/site-packages (from py7zr>=0.17.2->aac_datasets) (3.14.1)\n",
      "Requirement already satisfied: pyppmd<0.19.0,>=0.18.1 in /homelocal/labbeti/miniconda3/envs/env_test/lib/python3.10/site-packages (from py7zr>=0.17.2->aac_datasets) (0.18.2)\n",
      "Requirement already satisfied: typing-extensions in /homelocal/labbeti/miniconda3/envs/env_test/lib/python3.10/site-packages (from torch>=1.10.1->aac_datasets) (4.2.0)\n",
      "Note: you may need to restart the kernel to use updated packages.\n"
     ]
    }
   ],
   "source": [
    "%pip install aac_datasets"
   ]
  },
  {
   "cell_type": "markdown",
   "metadata": {},
   "source": [
    "## Dataset"
   ]
  },
  {
   "cell_type": "code",
   "execution_count": 2,
   "metadata": {},
   "outputs": [],
   "source": [
    "import aac_datasets\n",
    "import yaml\n",
    "\n",
    "from aac_datasets import Clotho"
   ]
  },
  {
   "cell_type": "code",
   "execution_count": 4,
   "metadata": {},
   "outputs": [
    {
     "name": "stdout",
     "output_type": "stream",
     "text": [
      "aac-datasets version: 0.2.0\n"
     ]
    }
   ],
   "source": [
    "print(f\"aac-datasets version: {aac_datasets.__version__}\")"
   ]
  },
  {
   "cell_type": "code",
   "execution_count": 3,
   "metadata": {},
   "outputs": [
    {
     "name": "stdout",
     "output_type": "stream",
     "text": [
      "Audio waveform shape: torch.Size([1, 937909])\n",
      "Captions:\n",
      "- A bird chirps in the background as footsteps walk over leaves.\n",
      "- A person is walking on leaves and gravel outdoors.\n",
      "- A person walks through crunching leaves and foliage and a bird calls out in the\n",
      "  background.\n",
      "- A person walks through crunching leaves and foliage as a bird calls out in the background.\n",
      "- Footsteps walking over leaves while a bird chirps in the background.\n",
      "\n"
     ]
    }
   ],
   "source": [
    "clotho_dev = Clotho(\".\", subset=\"dev\", download=True)\n",
    "\n",
    "example_0 = clotho_dev[0]\n",
    "audio_example = example_0[\"audio\"]\n",
    "captions_example = example_0[\"captions\"]\n",
    "\n",
    "print(f\"Audio waveform shape: {audio_example.shape}\")\n",
    "print(f\"Captions:\\n{yaml.dump(captions_example, sort_keys=False)}\")"
   ]
  },
  {
   "cell_type": "markdown",
   "metadata": {},
   "source": [
    "## DataLoader"
   ]
  },
  {
   "cell_type": "code",
   "execution_count": 4,
   "metadata": {},
   "outputs": [],
   "source": [
    "import yaml\n",
    "\n",
    "from torch.utils.data.dataloader import DataLoader\n",
    "\n",
    "from aac_datasets import Clotho\n",
    "from aac_datasets.utils import BasicCollate"
   ]
  },
  {
   "cell_type": "code",
   "execution_count": 5,
   "metadata": {},
   "outputs": [
    {
     "name": "stdout",
     "output_type": "stream",
     "text": [
      "Batch 0 audio shape: torch.Size([4, 1, 1296384])\n",
      "Batch 0 captions:\n",
      "- - A bird chirps in the background as footsteps walk over leaves.\n",
      "  - A person is walking on leaves and gravel outdoors.\n",
      "  - A person walks through crunching leaves and foliage and a bird calls out in the\n",
      "    background.\n",
      "  - A person walks through crunching leaves and foliage as a bird calls out in the\n",
      "    background.\n",
      "  - Footsteps walking over leaves while a bird chirps in the background.\n",
      "- - A banging over howling wind, then squeaking and footsteps growing louder.\n",
      "  - A fan is turned on, followed by metallic squeaking, with guitar music in the distance.\n",
      "  - Someone is rolling a cart down the hall after putting something in it and picks\n",
      "    up more stuff.\n",
      "  - Someone opening a garage door slowly and then closing it.\n",
      "  - Someone rolls a cart down the hall after putting something in it and picking up\n",
      "    more stuff.\n",
      "- - Liquid is being poured into a container at a constant rate.\n",
      "  - Liquid is pouring into a container at a constant rate.\n",
      "  - Water flows steadily into a container of water.\n",
      "  - Water flows steadily into a container with water.\n",
      "  - liquid is constantly pouring into a container here.\n",
      "- - A truck and a dirt bike driving past and then people walking and talking.\n",
      "  - A vehicle started and zoomed off while people continue to talk while walking.\n",
      "  - As people walk and have a conversation a vehicle zooms by.\n",
      "  - Truck motor revs up and air brakes hiss while people chatter and walking away.\n",
      "  - While people chatter and walk away, a truck motor revs up and air brakes hiss.\n",
      "\n"
     ]
    }
   ],
   "source": [
    "clotho_dev = Clotho(\".\", subset=\"dev\", download=True)\n",
    "dataloader = DataLoader(clotho_dev, batch_size=4, collate_fn=BasicCollate())\n",
    "\n",
    "batch_0 = next(iter(dataloader))\n",
    "batch_0_audio, batch_0_captions = batch_0\n",
    "\n",
    "print(f\"Batch 0 audio shape: {batch_0_audio.shape}\")\n",
    "print(f\"Batch 0 captions:\\n{yaml.dump(batch_0_captions, sort_keys=False)}\")"
   ]
  }
 ],
 "metadata": {
  "kernelspec": {
   "display_name": "Python 3.9.7 ('env_aac')",
   "language": "python",
   "name": "python3"
  },
  "language_info": {
   "codemirror_mode": {
    "name": "ipython",
    "version": 3
   },
   "file_extension": ".py",
   "mimetype": "text/x-python",
   "name": "python",
   "nbconvert_exporter": "python",
   "pygments_lexer": "ipython3",
   "version": "3.9.7"
  },
  "orig_nbformat": 4,
  "vscode": {
   "interpreter": {
    "hash": "7063ab30e97d60a2fe29668a999abf1b5c461060cdc7a81c0f2e53653790b9f3"
   }
  }
 },
 "nbformat": 4,
 "nbformat_minor": 2
}
